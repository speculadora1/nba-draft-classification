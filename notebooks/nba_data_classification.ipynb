{
 "cells": [
  {
   "cell_type": "code",
   "execution_count": 1,
   "metadata": {},
   "outputs": [],
   "source": [
    "import pandas as pd "
   ]
  },
  {
   "cell_type": "code",
   "execution_count": 2,
   "metadata": {},
   "outputs": [],
   "source": [
    "nba_stats = pd.read_csv('../data/nba_stats.csv')"
   ]
  },
  {
   "cell_type": "code",
   "execution_count": 3,
   "metadata": {},
   "outputs": [
    {
     "data": {
      "text/html": [
       "<div>\n",
       "<style scoped>\n",
       "    .dataframe tbody tr th:only-of-type {\n",
       "        vertical-align: middle;\n",
       "    }\n",
       "\n",
       "    .dataframe tbody tr th {\n",
       "        vertical-align: top;\n",
       "    }\n",
       "\n",
       "    .dataframe thead th {\n",
       "        text-align: right;\n",
       "    }\n",
       "</style>\n",
       "<table border=\"1\" class=\"dataframe\">\n",
       "  <thead>\n",
       "    <tr style=\"text-align: right;\">\n",
       "      <th></th>\n",
       "      <th>year</th>\n",
       "      <th>player_id</th>\n",
       "      <th>name</th>\n",
       "      <th>games_played</th>\n",
       "      <th>minutes_played</th>\n",
       "      <th>minutes_per_game</th>\n",
       "      <th>box_plus_minus</th>\n",
       "    </tr>\n",
       "  </thead>\n",
       "  <tbody>\n",
       "    <tr>\n",
       "      <th>0</th>\n",
       "      <td>2000</td>\n",
       "      <td>abdulta01</td>\n",
       "      <td>Tariq Abdul-Wahad</td>\n",
       "      <td>61</td>\n",
       "      <td>1578</td>\n",
       "      <td>25.868852</td>\n",
       "      <td>-1.201838</td>\n",
       "    </tr>\n",
       "    <tr>\n",
       "      <th>1</th>\n",
       "      <td>2000</td>\n",
       "      <td>abdursh01</td>\n",
       "      <td>Shareef Abdur-Rahim</td>\n",
       "      <td>82</td>\n",
       "      <td>3223</td>\n",
       "      <td>39.304878</td>\n",
       "      <td>2.200000</td>\n",
       "    </tr>\n",
       "    <tr>\n",
       "      <th>2</th>\n",
       "      <td>2000</td>\n",
       "      <td>alexaco01</td>\n",
       "      <td>Cory Alexander</td>\n",
       "      <td>29</td>\n",
       "      <td>329</td>\n",
       "      <td>11.344828</td>\n",
       "      <td>-2.400000</td>\n",
       "    </tr>\n",
       "    <tr>\n",
       "      <th>3</th>\n",
       "      <td>2000</td>\n",
       "      <td>allenra02</td>\n",
       "      <td>Ray Allen</td>\n",
       "      <td>82</td>\n",
       "      <td>3070</td>\n",
       "      <td>37.439024</td>\n",
       "      <td>3.600000</td>\n",
       "    </tr>\n",
       "    <tr>\n",
       "      <th>4</th>\n",
       "      <td>2000</td>\n",
       "      <td>alstora01</td>\n",
       "      <td>Rafer Alston</td>\n",
       "      <td>27</td>\n",
       "      <td>361</td>\n",
       "      <td>13.370370</td>\n",
       "      <td>-7.300000</td>\n",
       "    </tr>\n",
       "  </tbody>\n",
       "</table>\n",
       "</div>"
      ],
      "text/plain": [
       "   year  player_id                 name  games_played  minutes_played  \\\n",
       "0  2000  abdulta01    Tariq Abdul-Wahad            61            1578   \n",
       "1  2000  abdursh01  Shareef Abdur-Rahim            82            3223   \n",
       "2  2000  alexaco01       Cory Alexander            29             329   \n",
       "3  2000  allenra02            Ray Allen            82            3070   \n",
       "4  2000  alstora01         Rafer Alston            27             361   \n",
       "\n",
       "   minutes_per_game  box_plus_minus  \n",
       "0         25.868852       -1.201838  \n",
       "1         39.304878        2.200000  \n",
       "2         11.344828       -2.400000  \n",
       "3         37.439024        3.600000  \n",
       "4         13.370370       -7.300000  "
      ]
     },
     "execution_count": 3,
     "metadata": {},
     "output_type": "execute_result"
    }
   ],
   "source": [
    "nba_stats.head()"
   ]
  },
  {
   "cell_type": "code",
   "execution_count": 4,
   "metadata": {},
   "outputs": [],
   "source": [
    "# build helper function\n",
    "def game_check(variable):\n",
    "    if sum(variable) >= 162:\n",
    "        return True\n",
    "    else:\n",
    "        return False"
   ]
  },
  {
   "cell_type": "code",
   "execution_count": 5,
   "metadata": {},
   "outputs": [
    {
     "name": "stderr",
     "output_type": "stream",
     "text": [
      "/Users/speculadora/opt/anaconda3/envs/PythonData/lib/python3.6/site-packages/ipykernel_launcher.py:17: RuntimeWarning: invalid value encountered in double_scalars\n"
     ]
    }
   ],
   "source": [
    "# loop to create player classification\n",
    "player_id = nba_stats['player_id']\n",
    "classification = []\n",
    "\n",
    "for player in player_id:\n",
    "    \n",
    "    player_stats = nba_stats.loc[nba_stats['player_id'] == player, :].reset_index()\n",
    "    player_four = player_stats.iloc[1:5]\n",
    "    \n",
    "    games_played = player_four['games_played']\n",
    "    games = game_check(games_played)\n",
    "    \n",
    "    minutes_played = player_four['minutes_played']\n",
    "    bpm = player_four['box_plus_minus']\n",
    "    \n",
    "    weighted_bpm = minutes_played * bpm\n",
    "    avg_bpm = weighted_bpm.sum() / minutes_played.sum()\n",
    "    \n",
    "    if avg_bpm >= 3 and games == True:\n",
    "        classification.append('All-Star') \n",
    "    elif avg_bpm < 3 and avg_bpm >= 0 and games == True:\n",
    "        classification.append('Starter')\n",
    "    elif avg_bpm < 0 and avg_bpm >= -3 and games == True:\n",
    "        classification.append('Role Player')\n",
    "    elif games == True:\n",
    "        classification.append('Bust')\n",
    "    else:\n",
    "        classification.append('Exclude')"
   ]
  },
  {
   "cell_type": "code",
   "execution_count": 6,
   "metadata": {},
   "outputs": [],
   "source": [
    "nba_stats['classification'] = classification"
   ]
  },
  {
   "cell_type": "code",
   "execution_count": 7,
   "metadata": {},
   "outputs": [],
   "source": [
    "nba_stats.to_csv(\"../data/nba_stats_classified.csv\", index=False)"
   ]
  }
 ],
 "metadata": {
  "kernelspec": {
   "display_name": "Python 3",
   "language": "python",
   "name": "python3"
  },
  "language_info": {
   "codemirror_mode": {
    "name": "ipython",
    "version": 3
   },
   "file_extension": ".py",
   "mimetype": "text/x-python",
   "name": "python",
   "nbconvert_exporter": "python",
   "pygments_lexer": "ipython3",
   "version": "3.6.9"
  }
 },
 "nbformat": 4,
 "nbformat_minor": 2
}
