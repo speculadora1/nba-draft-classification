{
 "cells": [
  {
   "cell_type": "code",
   "execution_count": 1,
   "metadata": {},
   "outputs": [],
   "source": [
    "from basketball_reference_web_scraper import client\n",
    "import json\n",
    "import pandas as pd"
   ]
  },
  {
   "cell_type": "code",
   "execution_count": 2,
   "metadata": {},
   "outputs": [],
   "source": [
    "competition_year = []\n",
    "player_id = []\n",
    "name = []\n",
    "games_played = []\n",
    "minutes_played = []\n",
    "\n",
    "for year in range(2000, 2020):\n",
    "    stats = client.players_season_totals(season_end_year=year)\n",
    "    for result in stats:\n",
    "        competition_year.append(year)\n",
    "        player_id.append(result['slug'])\n",
    "        name.append(result['name'])\n",
    "        games_played.append(result['games_played'])\n",
    "        minutes_played.append(result['minutes_played'])"
   ]
  },
  {
   "cell_type": "code",
   "execution_count": 3,
   "metadata": {},
   "outputs": [],
   "source": [
    "player_id_2 = []\n",
    "box_plus_minus = []\n",
    "\n",
    "for year in range(2000, 2020):\n",
    "    stats = client.players_advanced_season_totals(season_end_year=year)\n",
    "    for result in stats:\n",
    "        player_id_2.append(result['slug'])\n",
    "        box_plus_minus.append(result['box_plus_minus'])"
   ]
  },
  {
   "cell_type": "code",
   "execution_count": 4,
   "metadata": {},
   "outputs": [],
   "source": [
    "columns = ['year', 'player_id', 'name', 'games_played', 'minutes_played', 'player_id_2', 'box_plus_minus']\n",
    "\n",
    "complete_nba_stats = pd.DataFrame(columns = columns)"
   ]
  },
  {
   "cell_type": "code",
   "execution_count": 5,
   "metadata": {},
   "outputs": [],
   "source": [
    "complete_nba_stats['year'] = competition_year\n",
    "complete_nba_stats['player_id'] = player_id\n",
    "complete_nba_stats['name'] = name\n",
    "complete_nba_stats['games_played'] = games_played\n",
    "complete_nba_stats['minutes_played'] = minutes_played\n",
    "complete_nba_stats['player_id_2'] = player_id_2\n",
    "complete_nba_stats['box_plus_minus'] = box_plus_minus"
   ]
  },
  {
   "cell_type": "code",
   "execution_count": 6,
   "metadata": {},
   "outputs": [
    {
     "data": {
      "text/html": [
       "<div>\n",
       "<style scoped>\n",
       "    .dataframe tbody tr th:only-of-type {\n",
       "        vertical-align: middle;\n",
       "    }\n",
       "\n",
       "    .dataframe tbody tr th {\n",
       "        vertical-align: top;\n",
       "    }\n",
       "\n",
       "    .dataframe thead th {\n",
       "        text-align: right;\n",
       "    }\n",
       "</style>\n",
       "<table border=\"1\" class=\"dataframe\">\n",
       "  <thead>\n",
       "    <tr style=\"text-align: right;\">\n",
       "      <th></th>\n",
       "      <th>year</th>\n",
       "      <th>player_id</th>\n",
       "      <th>name</th>\n",
       "      <th>games_played</th>\n",
       "      <th>minutes_played</th>\n",
       "      <th>minutes_per_game</th>\n",
       "      <th>box_plus_minus</th>\n",
       "    </tr>\n",
       "  </thead>\n",
       "  <tbody>\n",
       "    <tr>\n",
       "      <th>0</th>\n",
       "      <td>2000</td>\n",
       "      <td>abdulta01</td>\n",
       "      <td>Tariq Abdul-Wahad</td>\n",
       "      <td>61</td>\n",
       "      <td>1578</td>\n",
       "      <td>25.868852</td>\n",
       "      <td>-1.201838</td>\n",
       "    </tr>\n",
       "    <tr>\n",
       "      <th>1</th>\n",
       "      <td>2000</td>\n",
       "      <td>abdursh01</td>\n",
       "      <td>Shareef Abdur-Rahim</td>\n",
       "      <td>82</td>\n",
       "      <td>3223</td>\n",
       "      <td>39.304878</td>\n",
       "      <td>2.200000</td>\n",
       "    </tr>\n",
       "    <tr>\n",
       "      <th>2</th>\n",
       "      <td>2000</td>\n",
       "      <td>alexaco01</td>\n",
       "      <td>Cory Alexander</td>\n",
       "      <td>29</td>\n",
       "      <td>329</td>\n",
       "      <td>11.344828</td>\n",
       "      <td>-2.400000</td>\n",
       "    </tr>\n",
       "    <tr>\n",
       "      <th>3</th>\n",
       "      <td>2000</td>\n",
       "      <td>allenra02</td>\n",
       "      <td>Ray Allen</td>\n",
       "      <td>82</td>\n",
       "      <td>3070</td>\n",
       "      <td>37.439024</td>\n",
       "      <td>3.600000</td>\n",
       "    </tr>\n",
       "    <tr>\n",
       "      <th>4</th>\n",
       "      <td>2000</td>\n",
       "      <td>alstora01</td>\n",
       "      <td>Rafer Alston</td>\n",
       "      <td>27</td>\n",
       "      <td>361</td>\n",
       "      <td>13.370370</td>\n",
       "      <td>-7.300000</td>\n",
       "    </tr>\n",
       "  </tbody>\n",
       "</table>\n",
       "</div>"
      ],
      "text/plain": [
       "   year  player_id                 name  games_played  minutes_played  \\\n",
       "0  2000  abdulta01    Tariq Abdul-Wahad            61            1578   \n",
       "1  2000  abdursh01  Shareef Abdur-Rahim            82            3223   \n",
       "2  2000  alexaco01       Cory Alexander            29             329   \n",
       "3  2000  allenra02            Ray Allen            82            3070   \n",
       "4  2000  alstora01         Rafer Alston            27             361   \n",
       "\n",
       "   minutes_per_game  box_plus_minus  \n",
       "0         25.868852       -1.201838  \n",
       "1         39.304878        2.200000  \n",
       "2         11.344828       -2.400000  \n",
       "3         37.439024        3.600000  \n",
       "4         13.370370       -7.300000  "
      ]
     },
     "execution_count": 6,
     "metadata": {},
     "output_type": "execute_result"
    }
   ],
   "source": [
    "# flatten season x player combinations & clean up df\n",
    "complete_nba_stats.drop(['player_id_2'], axis = 1, inplace = True)\n",
    "\n",
    "complete_nba_stats['wBPM'] = complete_nba_stats['minutes_played'] * complete_nba_stats['box_plus_minus']\n",
    "\n",
    "complete_nba_stats = complete_nba_stats.groupby(['year', 'player_id', 'name']).sum()\n",
    "\n",
    "complete_nba_stats['box_plus_minus'] = complete_nba_stats['wBPM'] / complete_nba_stats['minutes_played']\n",
    "\n",
    "complete_nba_stats['minutes_per_game'] = complete_nba_stats['minutes_played'] / complete_nba_stats['games_played']\n",
    "\n",
    "complete_nba_stats.drop(['wBPM'], axis = 1, inplace = True)\n",
    "\n",
    "complete_nba_stats.reset_index(inplace = True)\n",
    "\n",
    "complete_nba_stats = complete_nba_stats[['year', 'player_id', 'name', 'games_played', \n",
    "                                         'minutes_played', 'minutes_per_game', 'box_plus_minus']]\n",
    "\n",
    "complete_nba_stats.head()"
   ]
  },
  {
   "cell_type": "code",
   "execution_count": 7,
   "metadata": {},
   "outputs": [],
   "source": [
    "complete_nba_stats.to_csv(\"../data/nba_stats.csv\", index=False)"
   ]
  }
 ],
 "metadata": {
  "kernelspec": {
   "display_name": "Python [conda env:PythonData] *",
   "language": "python",
   "name": "conda-env-PythonData-py"
  },
  "language_info": {
   "codemirror_mode": {
    "name": "ipython",
    "version": 3
   },
   "file_extension": ".py",
   "mimetype": "text/x-python",
   "name": "python",
   "nbconvert_exporter": "python",
   "pygments_lexer": "ipython3",
   "version": "3.6.9"
  }
 },
 "nbformat": 4,
 "nbformat_minor": 2
}
